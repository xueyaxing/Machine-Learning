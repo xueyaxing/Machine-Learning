{
  "nbformat": 4,
  "nbformat_minor": 0,
  "metadata": {
    "kernelspec": {
      "display_name": "Python 3",
      "language": "python",
      "name": "python3"
    },
    "language_info": {
      "codemirror_mode": {
        "name": "ipython",
        "version": 3
      },
      "file_extension": ".py",
      "mimetype": "text/x-python",
      "name": "python",
      "nbconvert_exporter": "python",
      "pygments_lexer": "ipython3",
      "version": "3.8.5"
    },
    "colab": {
      "name": "ML_Explorar + Visualizar.ipynb",
      "provenance": [],
      "include_colab_link": true
    }
  },
  "cells": [
    {
      "cell_type": "markdown",
      "metadata": {
        "id": "view-in-github",
        "colab_type": "text"
      },
      "source": [
        "<a href=\"https://colab.research.google.com/github/oscar-unir/TIA/blob/main/ML_Explorar_%2B_Visualizar.ipynb\" target=\"_parent\"><img src=\"https://colab.research.google.com/assets/colab-badge.svg\" alt=\"Open In Colab\"/></a>"
      ]
    },
    {
      "cell_type": "markdown",
      "metadata": {
        "id": "F-yAwDBC8Vqu"
      },
      "source": [
        "# Explorar y visualizar datos con python\n",
        "\n",
        "En este ejemplo vamos a explorar el famoso dataset Iris, el cual incluye una clase que corresponde \n",
        "al tipo de planta Iris y cuatro atributos numéricos, ancho y largo del pétalo y el sépalo, que permiten clasificar\n",
        "las plantas en una clase u otra."
      ]
    },
    {
      "cell_type": "markdown",
      "metadata": {
        "id": "tdrCGk638Vqz"
      },
      "source": [
        "Debido a problemas con los certificados en Mac, deben añadirse las dos líneas siguientes para importar correctamente ficheros de forma segura."
      ]
    },
    {
      "cell_type": "code",
      "metadata": {
        "id": "HZOvXSGI8Vqz"
      },
      "source": [
        "import ssl\n",
        "ssl._create_default_https_context = ssl._create_unverified_context"
      ],
      "execution_count": 17,
      "outputs": []
    },
    {
      "cell_type": "code",
      "metadata": {
        "id": "8Mz1d0fL8Vq0"
      },
      "source": [
        "from pandas import read_csv\n",
        "from pandas.plotting import scatter_matrix\n",
        "from matplotlib import pyplot\n",
        "from sklearn.neighbors import KNeighborsClassifier\n",
        "from sklearn.metrics import accuracy_score\n",
        "from sklearn.model_selection import train_test_split\n",
        "import numpy as np"
      ],
      "execution_count": 18,
      "outputs": []
    },
    {
      "cell_type": "code",
      "metadata": {
        "id": "5tlQENRB8Vq0"
      },
      "source": [
        "url = \"https://www.openml.org/data/get_csv/61/dataset_61_iris.arff\""
      ],
      "execution_count": 19,
      "outputs": []
    },
    {
      "cell_type": "markdown",
      "metadata": {
        "id": "7ZhhBkVO8Vq1"
      },
      "source": [
        "Asignamos el dataset en un objeto, es similar a un diccionario contiene keys y values:"
      ]
    },
    {
      "cell_type": "code",
      "metadata": {
        "id": "EUVKWLxC8Vq1"
      },
      "source": [
        "dataset = read_csv(url)"
      ],
      "execution_count": 20,
      "outputs": []
    },
    {
      "cell_type": "markdown",
      "metadata": {
        "id": "qhLx5nTs8Vq1"
      },
      "source": [
        "Mostramos la \"forma\", debería haber 150 entradas con 5 atributos cada una:"
      ]
    },
    {
      "cell_type": "code",
      "metadata": {
        "colab": {
          "base_uri": "https://localhost:8080/"
        },
        "id": "rdhCBbFl8Vq2",
        "outputId": "3923aad2-d651-4a26-8c8c-d9e2ec6c749a"
      },
      "source": [
        "print(dataset.shape)"
      ],
      "execution_count": 21,
      "outputs": [
        {
          "output_type": "stream",
          "text": [
            "(150, 5)\n"
          ],
          "name": "stdout"
        }
      ]
    },
    {
      "cell_type": "markdown",
      "metadata": {
        "id": "x18eGQoT8Vq3"
      },
      "source": [
        "Mostramos las 3 primeras entradas para echar un vistazo:"
      ]
    },
    {
      "cell_type": "code",
      "metadata": {
        "colab": {
          "base_uri": "https://localhost:8080/"
        },
        "id": "ZeQwDOlM8Vq4",
        "outputId": "9d6187a1-5eae-4e9c-8b48-9300cf1d85bd"
      },
      "source": [
        "print(dataset.head(3))"
      ],
      "execution_count": 22,
      "outputs": [
        {
          "output_type": "stream",
          "text": [
            "   sepallength  sepalwidth  petallength  petalwidth        class\n",
            "0          5.1         3.5          1.4         0.2  Iris-setosa\n",
            "1          4.9         3.0          1.4         0.2  Iris-setosa\n",
            "2          4.7         3.2          1.3         0.2  Iris-setosa\n"
          ],
          "name": "stdout"
        }
      ]
    },
    {
      "cell_type": "markdown",
      "metadata": {
        "id": "PaWLMjeM8Vq4"
      },
      "source": [
        "Mostramos un resumen estadístico de los datos:"
      ]
    },
    {
      "cell_type": "code",
      "metadata": {
        "colab": {
          "base_uri": "https://localhost:8080/"
        },
        "id": "KvmKeUtT8Vq4",
        "outputId": "24b86a01-a6bb-4afc-e534-03588ca77a7d"
      },
      "source": [
        "print(dataset.describe())"
      ],
      "execution_count": 23,
      "outputs": [
        {
          "output_type": "stream",
          "text": [
            "       sepallength  sepalwidth  petallength  petalwidth\n",
            "count   150.000000  150.000000   150.000000  150.000000\n",
            "mean      5.843333    3.054000     3.758667    1.198667\n",
            "std       0.828066    0.433594     1.764420    0.763161\n",
            "min       4.300000    2.000000     1.000000    0.100000\n",
            "25%       5.100000    2.800000     1.600000    0.300000\n",
            "50%       5.800000    3.000000     4.350000    1.300000\n",
            "75%       6.400000    3.300000     5.100000    1.800000\n",
            "max       7.900000    4.400000     6.900000    2.500000\n"
          ],
          "name": "stdout"
        }
      ]
    },
    {
      "cell_type": "markdown",
      "metadata": {
        "id": "_13D5UhS8Vq4"
      },
      "source": [
        "Distribución por clases:"
      ]
    },
    {
      "cell_type": "code",
      "metadata": {
        "colab": {
          "base_uri": "https://localhost:8080/"
        },
        "id": "3SafV7bD8Vq4",
        "outputId": "7ebcec4a-9f63-4d2b-d398-1b4b1eefdd40"
      },
      "source": [
        "print(dataset.groupby('class').size())"
      ],
      "execution_count": 24,
      "outputs": [
        {
          "output_type": "stream",
          "text": [
            "class\n",
            "Iris-setosa        50\n",
            "Iris-versicolor    50\n",
            "Iris-virginica     50\n",
            "dtype: int64\n"
          ],
          "name": "stdout"
        }
      ]
    },
    {
      "cell_type": "markdown",
      "metadata": {
        "id": "xAbjoYHs8Vq5"
      },
      "source": [
        "Dibujemos en primer lugar diagramas de cajas y bigotes con pyplot de matplotlib:"
      ]
    },
    {
      "cell_type": "code",
      "metadata": {
        "colab": {
          "base_uri": "https://localhost:8080/",
          "height": 267
        },
        "id": "NIvl9UQV8Vq5",
        "outputId": "ff71da1e-4bcb-4630-c348-3885fab9fdc3"
      },
      "source": [
        "dataset.plot(kind='box',subplots=True, layout=(2,2), sharex=False, sharey=False)\n",
        "pyplot.show()"
      ],
      "execution_count": 25,
      "outputs": [
        {
          "output_type": "display_data",
          "data": {
            "image/png": "[encoded data removed]",
            "text/plain": [
              "<Figure size 432x288 with 4 Axes>"
            ]
          },
          "metadata": {
            "tags": [],
            "needs_background": "light"
          }
        }
      ]
    },
    {
      "cell_type": "markdown",
      "metadata": {
        "id": "FSE-OKSl8Vq6"
      },
      "source": [
        "Dibujemos ahora los histogramas:"
      ]
    },
    {
      "cell_type": "code",
      "metadata": {
        "colab": {
          "base_uri": "https://localhost:8080/",
          "height": 281
        },
        "id": "2D0Bbkwg8Vq6",
        "outputId": "6f793cc1-81ea-43c2-9695-912d9637dff7"
      },
      "source": [
        "dataset.hist()\n",
        "pyplot.show()"
      ],
      "execution_count": 26,
      "outputs": [
        {
          "output_type": "display_data",
          "data": {
            "image/png": "[encoded data removed]",
            "text/plain": [
              "<Figure size 432x288 with 4 Axes>"
            ]
          },
          "metadata": {
            "tags": [],
            "needs_background": "light"
          }
        }
      ]
    },
    {
      "cell_type": "markdown",
      "metadata": {
        "id": "EBDMF-mr8Vq7"
      },
      "source": [
        "Y ahora unos gráficos multivariable con la matriz de dispersión:"
      ]
    },
    {
      "cell_type": "code",
      "metadata": {
        "colab": {
          "base_uri": "https://localhost:8080/",
          "height": 284
        },
        "id": "F8-f1gg38Vq7",
        "outputId": "b36deb1f-7bcc-45e6-b1a6-26460ef67e39"
      },
      "source": [
        "scatter_matrix(dataset)\n",
        "pyplot.show()"
      ],
      "execution_count": 27,
      "outputs": [
        {
          "output_type": "display_data",
          "data": {
            "image/png": "[encoded data removed]",
            "text/plain": [
              "<Figure size 432x288 with 16 Axes>"
            ]
          },
          "metadata": {
            "tags": [],
            "needs_background": "light"
          }
        }
      ]
    },
    {
      "cell_type": "markdown",
      "metadata": {
        "id": "EX-91kGH8Vq7"
      },
      "source": [
        "Particionamos el dataset en entrenamiento y pruebas:"
      ]
    },
    {
      "cell_type": "code",
      "metadata": {
        "id": "zjVN2Bxo8Vq7"
      },
      "source": [
        "array = dataset.values\n",
        "X = array[:,0:4]\n",
        "y = array[:,4]\n",
        "X_train, X_validation, Y_train, Y_validation = train_test_split(X, y, test_size=0.25, random_state=1, shuffle=True)"
      ],
      "execution_count": 28,
      "outputs": []
    },
    {
      "cell_type": "markdown",
      "metadata": {
        "id": "hYz65TyT8Vq7"
      },
      "source": [
        "Construcción del modelo con k nearest neighbors. Utilizaremos k=1\n",
        "Cargamos la clase de scikit que contiene el algoritmo.\n",
        "El algortimo está encapsulado en el objeto knn. Para construir el modelo con el conjunto de entrenamiento tenemos que llamar a la función fit que empareja datos con etiquetas."
      ]
    },
    {
      "cell_type": "code",
      "metadata": {
        "id": "HLGo7SWM8Vq8"
      },
      "source": [
        "model = KNeighborsClassifier(n_neighbors=1)\n",
        "model.fit(X_train, Y_train)\n",
        "predictions = model.predict(X_validation)"
      ],
      "execution_count": 29,
      "outputs": []
    },
    {
      "cell_type": "markdown",
      "metadata": {
        "id": "I5aRbY9x8Vq8"
      },
      "source": [
        "Damos detalles sobre el modelo:"
      ]
    },
    {
      "cell_type": "code",
      "metadata": {
        "colab": {
          "base_uri": "https://localhost:8080/"
        },
        "id": "fXDdN8xu8Vq8",
        "outputId": "61890e4c-a65a-40d9-ce41-8ae6404d36dc"
      },
      "source": [
        "print(model)"
      ],
      "execution_count": 30,
      "outputs": [
        {
          "output_type": "stream",
          "text": [
            "KNeighborsClassifier(algorithm='auto', leaf_size=30, metric='minkowski',\n",
            "                     metric_params=None, n_jobs=None, n_neighbors=1, p=2,\n",
            "                     weights='uniform')\n"
          ],
          "name": "stdout"
        }
      ]
    },
    {
      "cell_type": "markdown",
      "metadata": {
        "id": "hJqgZ5VQ8Vq8"
      },
      "source": [
        "Evaluamos las predicciones, en primer lugar la precisión obtenida:"
      ]
    },
    {
      "cell_type": "code",
      "metadata": {
        "colab": {
          "base_uri": "https://localhost:8080/"
        },
        "id": "h5RNH2Vl8Vq8",
        "outputId": "820022f1-0a1c-4e1e-cc40-e6c1373a4057"
      },
      "source": [
        "print(accuracy_score(Y_validation, predictions))"
      ],
      "execution_count": 31,
      "outputs": [
        {
          "output_type": "stream",
          "text": [
            "1.0\n"
          ],
          "name": "stdout"
        }
      ]
    },
    {
      "cell_type": "markdown",
      "metadata": {
        "id": "MalkvNW78Vq8"
      },
      "source": [
        "Hacemos predicciones.\n",
        "Utilizamos el modelo con nuevos datos (necesitamos hacerlo bidimensional pq scikit-learn siempre espera datos así)"
      ]
    },
    {
      "cell_type": "code",
      "metadata": {
        "colab": {
          "base_uri": "https://localhost:8080/"
        },
        "id": "lMM2WRC68Vq9",
        "outputId": "2f0ffa54-3112-4150-8727-b7785cfedf09"
      },
      "source": [
        "print(model.predict([[6.0, 3.0, 5.0, 2.0]]))"
      ],
      "execution_count": 32,
      "outputs": [
        {
          "output_type": "stream",
          "text": [
            "['Iris-virginica']\n"
          ],
          "name": "stdout"
        }
      ]
    }
  ]
}