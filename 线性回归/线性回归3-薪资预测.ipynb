{
 "cells": [
  {
   "cell_type": "code",
   "execution_count": null,
   "id": "01557fe0",
   "metadata": {},
   "outputs": [],
   "source": [
    "#基于sklearn提供的API，训练线性回归模型\n",
    "import sklearn.linear_model as lm\n",
    "import pandas as pd\n",
    "model = lm.LinernRegression()\n",
    "data = pd.read_csv('Salary.csv')\n",
    "x = pd.DataFram\n",
    "model.fit(x,y)\n"
   ]
  }
 ],
 "metadata": {
  "kernelspec": {
   "display_name": "Python 3",
   "language": "python",
   "name": "python3"
  },
  "language_info": {
   "codemirror_mode": {
    "name": "ipython",
    "version": 3
   },
   "file_extension": ".py",
   "mimetype": "text/x-python",
   "name": "python",
   "nbconvert_exporter": "python",
   "pygments_lexer": "ipython3",
   "version": "3.8.8"
  }
 },
 "nbformat": 4,
 "nbformat_minor": 5
}