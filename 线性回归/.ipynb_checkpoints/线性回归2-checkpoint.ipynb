{
 "cells": [
  {
   "cell_type": "code",
   "execution_count": 10,
   "id": "84c8958a",
   "metadata": {},
   "outputs": [],
   "source": [
    "import numpy as np\n",
    "import pandas as pd\n",
    "import matplotlib.pyplot as plt"
   ]
  },
  {
   "cell_type": "code",
   "execution_count": 12,
   "id": "880eaa7d",
   "metadata": {},
   "outputs": [
    {
     "ename": "SyntaxError",
     "evalue": "invalid character in identifier (<ipython-input-12-b14ffbcbd830>, line 6)",
     "output_type": "error",
     "traceback": [
      "\u001b[1;36m  File \u001b[1;32m\"<ipython-input-12-b14ffbcbd830>\"\u001b[1;36m, line \u001b[1;32m6\u001b[0m\n\u001b[1;33m    x , y = data['YearsExperence'] ，data['Salary']\u001b[0m\n\u001b[1;37m                                       ^\u001b[0m\n\u001b[1;31mSyntaxError\u001b[0m\u001b[1;31m:\u001b[0m invalid character in identifier\n"
     ]
    }
   ],
   "source": [
    "x = np.array([0.5,0.6,0.8,1.1,1.4])\n",
    "y = np.array([5.0,5.5,6.0,6.8,7.0])\n",
    "\n",
    "#加载数据集\n",
    "data = pd.read_csv('Salary.csv')\n",
    "x , y = data['YearsExperence'] ，data['Salary']\n"
   ]
  },
  {
   "cell_type": "code",
   "execution_count": null,
   "id": "f17dec89",
   "metadata": {},
   "outputs": [],
   "source": [
    "plt.grid(linestyle=':')\n",
    "plt.scatter(x,y,s=60,color='dodgerblue',label='Samples')"
   ]
  },
  {
   "cell_type": "code",
   "execution_count": null,
   "id": "b2bb8291",
   "metadata": {},
   "outputs": [],
   "source": [
    "#基于梯度下降算法，不断更新w0和w1，从而找到最佳的模型参【【7f数\n",
    "w0, w1, lrate, times = 1, 1, 0.01, 1000\n",
    "w0s,w1s,losses,epoches = [],[],[],[]\n",
    "for i in range(times):\n",
    "    #输出每一轮运算过程中，w0,w1,loss的变化过程\n",
    "    loss = ((w0 + w1*x - y)**2).sum()/2\n",
    "    print('{:4}, w0:{:.8f}, w1:{:.8f}, loss:{:.8f}'.format(i+1,w0,w1,loss))\n",
    "    \n",
    "    #把变量存入各个列表中\n",
    "    epoches.append(i+1)\n",
    "    w0s.append(w0)\n",
    "    w1s.append(w1)\n",
    "    losses.append(loss)\n",
    "    \n",
    "    # 计算w0 和 w1方向上的偏导数，代入模型参数的更新公式\n",
    "    d0 = (w0 + w1*x - y ).sum()\n",
    "    d1 = (x*(w0 + w1*x - y )).sum()\n",
    "    \n",
    "    w0 = w0 - lrate * d0\n",
    "    w1 = w1 - lrate * d1\n"
   ]
  },
  {
   "cell_type": "code",
   "execution_count": null,
   "id": "ccd1f62b",
   "metadata": {},
   "outputs": [],
   "source": [
    "plt.grid(linestyle=':')\n",
    "plt.scatter(x,y,s=60,color='dodgerblue',label='Samples')\n",
    "\n",
    "pred_y = w0 + w1*x\n",
    "plt.plot(x,pred_y,color='orangered', linewidth=2, label='Regres')"
   ]
  },
  {
   "cell_type": "code",
   "execution_count": null,
   "id": "be8a9d30",
   "metadata": {},
   "outputs": [],
   "source": [
    "#模型参数可视化\n",
    "plt.subplot(3,1,1)\n",
    "plt.grid(linestyle=':')\n",
    "plt.ylabel('w0')\n",
    "plt.plot(epoches,w0s,color='dodgerblue',label='w0')\n",
    "plt.xticks([])\n",
    "plt.legend()\n",
    "\n",
    "plt.subplot(3,1,2)\n",
    "plt.grid(linestyle=':')\n",
    "plt.ylabel('w1')\n",
    "plt.plot(epoches,w1s,color='dodgerblue',label='w1')\n",
    "plt.xticks([])\n",
    "plt.legend()\n",
    "\n",
    "plt.subplot(3,1,3)\n",
    "plt.grid(linestyle=':')\n",
    "plt.ylabel('loss')\n",
    "plt.plot(epoches,losses,color='orangered',label='loss')\n",
    "plt.legend()\n"
   ]
  },
  {
   "cell_type": "code",
   "execution_count": null,
   "id": "0cf33560",
   "metadata": {},
   "outputs": [],
   "source": []
  },
  {
   "cell_type": "code",
   "execution_count": null,
   "id": "59fcea9f",
   "metadata": {},
   "outputs": [],
   "source": []
  },
  {
   "cell_type": "code",
   "execution_count": null,
   "id": "4d8c4cd4",
   "metadata": {},
   "outputs": [],
   "source": []
  },
  {
   "cell_type": "code",
   "execution_count": null,
   "id": "1e380e6d",
   "metadata": {},
   "outputs": [],
   "source": []
  },
  {
   "cell_type": "code",
   "execution_count": null,
   "id": "fce6c2b2",
   "metadata": {},
   "outputs": [],
   "source": []
  },
  {
   "cell_type": "code",
   "execution_count": null,
   "id": "15cd01d1",
   "metadata": {},
   "outputs": [],
   "source": []
  }
 ],
 "metadata": {
  "kernelspec": {
   "display_name": "Python 3",
   "language": "python",
   "name": "python3"
  },
  "language_info": {
   "codemirror_mode": {
    "name": "ipython",
    "version": 3
   },
   "file_extension": ".py",
   "mimetype": "text/x-python",
   "name": "python",
   "nbconvert_exporter": "python",
   "pygments_lexer": "ipython3",
   "version": "3.8.8"
  }
 },
 "nbformat": 4,
 "nbformat_minor": 5
}
